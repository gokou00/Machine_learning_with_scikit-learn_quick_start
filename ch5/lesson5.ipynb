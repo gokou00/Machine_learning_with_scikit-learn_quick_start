{
 "cells": [
  {
   "cell_type": "markdown",
   "metadata": {},
   "source": [
    "# Predicting Numeric Outcomes with Linear Regression"
   ]
  },
  {
   "cell_type": "markdown",
   "metadata": {},
   "source": [
    "## -Linear regression in two dimensions"
   ]
  },
  {
   "cell_type": "code",
   "execution_count": 3,
   "metadata": {},
   "outputs": [],
   "source": [
    "import pandas as pd\n",
    "import matplotlib.pyplot as plt"
   ]
  },
  {
   "cell_type": "code",
   "execution_count": 4,
   "metadata": {},
   "outputs": [],
   "source": [
    "#reading in the dataset\n",
    "\n",
    "df = pd.read_csv(\"fraud_prediction.csv\")\n",
    "\n",
    "#Defining the feature and target arrays\n",
    "\n",
    "feature  = df[\"oldbalanceOrg\"].values\n",
    "target = df[\"amount\"].values"
   ]
  },
  {
   "cell_type": "code",
   "execution_count": 5,
   "metadata": {},
   "outputs": [
    {
     "data": {
      "image/png": "[encoded data removed]",
      "text/plain": [
       "<Figure size 432x288 with 1 Axes>"
      ]
     },
     "metadata": {
      "needs_background": "light"
     },
     "output_type": "display_data"
    }
   ],
   "source": [
    "# Creating a scatter plot between the feature and target\n",
    "\n",
    "\n",
    "plt.scatter(feature,target)\n",
    "plt.xlabel(\"Old Balance of Account Holder\")\n",
    "plt.ylabel(\"Amount of Transaction\")\n",
    "plt.title(\"Amount Vs. Old Balance\")\n",
    "plt.show()"
   ]
  },
  {
   "cell_type": "code",
   "execution_count": 8,
   "metadata": {},
   "outputs": [
    {
     "data": {
      "image/png": "[encoded data removed]",
      "text/plain": [
       "<Figure size 432x288 with 1 Axes>"
      ]
     },
     "metadata": {
      "needs_background": "light"
     },
     "output_type": "display_data"
    }
   ],
   "source": [
    "# Importing the library\n",
    "import pandas as pd\n",
    "from sklearn import linear_model\n",
    "import matplotlib.pyplot as plt\n",
    "import numpy as np\n",
    "from sklearn.model_selection import train_test_split\n",
    "from sklearn.preprocessing import StandardScaler\n",
    "from sklearn.pipeline import Pipeline\n",
    "from sklearn.linear_model import Ridge\n",
    "from sklearn.model_selection import GridSearchCV\n",
    "from sklearn.linear_model import Lasso\n",
    "\n",
    "# Initializing a linear regression model\n",
    "\n",
    "linear_reg = linear_model.LinearRegression()\n",
    "\n",
    "# Reshaping the array since we only have a single feature\n",
    "\n",
    "feature = feature.reshape(-1,1)\n",
    "target = target.reshape(-1,1)\n",
    "\n",
    "\n",
    "# Fitting the model on the data\n",
    "\n",
    "linear_reg.fit(feature, target)\n",
    "\n",
    "\n",
    "# Define the limits of the x axis\n",
    "\n",
    "\n",
    "x_lim = np.linspace(min(feature),max(feature)).reshape(-1,1)\n",
    "\n",
    "\n",
    "# Creating the scatter plot\n",
    "\n",
    "plt.scatter(feature,target)\n",
    "plt.xlabel(\"Old Balance of Account Holder\")\n",
    "plt.ylabel(\"Amount of Transaction\")\n",
    "plt.title(\"Amount Vs. Old Balance\")\n",
    "\n",
    "\n",
    "# Creating the prediction line\n",
    "\n",
    "plt.plot(x_lim,linear_reg.predict(x_lim),color=\"red\")\n",
    "\n",
    "# Show the plot\n",
    "\n",
    "\n",
    "plt.show()"
   ]
  },
  {
   "cell_type": "markdown",
   "metadata": {},
   "source": [
    "## - Using linear regression to predict mobile transaction amount "
   ]
  },
  {
   "cell_type": "code",
   "execution_count": 10,
   "metadata": {},
   "outputs": [],
   "source": [
    "# Using linear regression tp predict the total amount of a mobile transaction using all the other features in our mobile\n",
    "# transaction\n",
    "\n",
    "#Creating the features\n",
    "\n",
    "features = df.drop('isFraud', axis = 1).values\n",
    "target = df['isFraud'].values\n",
    "\n",
    "X_train, X_test, y_train, y_test = train_test_split(features, target, test_size = 0.3, random_state = 42, stratify = target)"
   ]
  },
  {
   "cell_type": "code",
   "execution_count": 11,
   "metadata": {},
   "outputs": [
    {
     "data": {
      "text/plain": [
       "0.9857972380288647"
      ]
     },
     "execution_count": 11,
     "metadata": {},
     "output_type": "execute_result"
    }
   ],
   "source": [
    "# Fitting the linear regression model and evaluate the initial accuracy score\n",
    "\n",
    "linear_reg = linear_model.LinearRegression()\n",
    "\n",
    "# Fitting the model on the data\n",
    "\n",
    "linear_reg.fit(X_train,y_train)\n",
    "\n",
    "\n",
    "#Accuracy of the model\n",
    "\n",
    "linear_reg.score(X_test,y_test)"
   ]
  },
  {
   "cell_type": "markdown",
   "metadata": {},
   "source": [
    "## - Scaling the data"
   ]
  },
  {
   "cell_type": "code",
   "execution_count": 12,
   "metadata": {},
   "outputs": [
    {
     "data": {
      "text/plain": [
       "0.9857972380288647"
      ]
     },
     "execution_count": 12,
     "metadata": {},
     "output_type": "execute_result"
    }
   ],
   "source": [
    "# Setting up the pipeline \n",
    "\n",
    "pipeline_order = [('scaler', StandardScaler()), ('linear_reg', linear_model.LinearRegression())]\n",
    "\n",
    "pipeline = Pipeline(pipeline_order)\n",
    "\n",
    "#Fitting the classfier to the scaled dataset \n",
    "\n",
    "linear_reg_scaled = pipeline.fit(X_train, y_train)\n",
    "\n",
    "#Extracting the score \n",
    "\n",
    "linear_reg_scaled.score(X_test, y_test)"
   ]
  },
  {
   "cell_type": "markdown",
   "metadata": {},
   "source": [
    "## - Using Ridge Regression"
   ]
  },
  {
   "cell_type": "code",
   "execution_count": 13,
   "metadata": {},
   "outputs": [
    {
     "data": {
      "text/plain": [
       "0.9857972380288649"
      ]
     },
     "execution_count": 13,
     "metadata": {},
     "output_type": "execute_result"
    }
   ],
   "source": [
    "#imported earlier \n",
    "\n",
    "# Initialize a ridge regression model\n",
    "\n",
    "\n",
    "ridge_reg = Ridge(alpha = 0, normalize=True)\n",
    "\n",
    "#Fit the model to the training data\n",
    "\n",
    "ridge_reg.fit(X_train,y_train)\n",
    "\n",
    "#Extract the score from the test data\n",
    "\n",
    "ridge_reg.score(X_test,y_test)"
   ]
  },
  {
   "cell_type": "code",
   "execution_count": 14,
   "metadata": {},
   "outputs": [
    {
     "name": "stdout",
     "output_type": "stream",
     "text": [
      "The most optimal value of alpha is: {'alpha': 0.01}\n"
     ]
    },
    {
     "data": {
      "text/plain": [
       "0.9857972164942486"
      ]
     },
     "execution_count": 14,
     "metadata": {},
     "output_type": "execute_result"
    }
   ],
   "source": [
    "# Obtaining the optimal alpha value with GridSearchCV \n",
    "\n",
    "#Building the model\n",
    "\n",
    "ridge_regression = Ridge()\n",
    "\n",
    "#Using GridSearchCV to search for the best parameter\n",
    "grid = GridSearchCV(ridge_regression,{\"alpha\":[0.0001,0.001,0.01,0.1,10]})\n",
    "grid.fit(X_train,y_train)\n",
    "\n",
    "#Print out the best parameter\n",
    "\n",
    "print(\"The most optimal value of alpha is:\", grid.best_params_)\n",
    "\n",
    "#Initializing an ridge regression object\n",
    "\n",
    "ridge_regression = Ridge(alpha=0.01)\n",
    "\n",
    "#Fitting the model to the training and test sets\n",
    "\n",
    "ridge_regression.fit(X_train,y_train)\n",
    "\n",
    "\n",
    "#Accuracy score of the ridge regression model\n",
    "\n",
    "ridge_regression.score(X_test,y_test)"
   ]
  },
  {
   "cell_type": "code",
   "execution_count": 15,
   "metadata": {},
   "outputs": [
    {
     "data": {
      "image/png": "[encoded data removed]",
      "text/plain": [
       "<Figure size 432x288 with 1 Axes>"
      ]
     },
     "metadata": {
      "needs_background": "light"
     },
     "output_type": "display_data"
    }
   ],
   "source": [
    "# Verifing the results of the GridSearchCV by plotting the difference between the accuracy scores on the y axis and the different \n",
    "# alpha along the x axis for both training and test data\n",
    "\n",
    "train_errors = []\n",
    "test_errors = []\n",
    "\n",
    "alpha_list = [0.0001,0.001,0.01,0.1,10]\n",
    "#Evaluate the training and test classification errors for each value of alpha \n",
    "\n",
    "for value in alpha_list:\n",
    "    #Create Ridge object and fit\n",
    "    ridge_regression = Ridge(alpha=value)\n",
    "    ridge_regression.fit(X_train,y_train)\n",
    "    \n",
    "    # Evaluate error rates and append to lists\n",
    "    train_errors.append(ridge_regression.score(X_train,y_train))\n",
    "    test_errors.append(ridge_regression.score(X_test,y_test))\n",
    "    \n",
    "#Plotting results \n",
    "\n",
    "\n",
    "plt.semilogx(alpha_list,train_errors,alpha_list,test_errors)\n",
    "plt.legend((\"train\",\"test\"))\n",
    "plt.ylabel(\"Accuracy Score\")\n",
    "plt.xlabel(\"Alpha\")\n",
    "plt.show()"
   ]
  },
  {
   "cell_type": "markdown",
   "metadata": {},
   "source": [
    "## - Lasso Regression "
   ]
  },
  {
   "cell_type": "code",
   "execution_count": 16,
   "metadata": {},
   "outputs": [
    {
     "name": "stderr",
     "output_type": "stream",
     "text": [
      "<ipython-input-16-1a341ad824b1>:8: UserWarning: With alpha=0, this algorithm does not converge well. You are advised to use the LinearRegression estimator\n",
      "  lasso_reg.fit(X_train,y_train)\n",
      "C:\\ProgramData\\Anaconda3\\lib\\site-packages\\sklearn\\linear_model\\_coordinate_descent.py:529: UserWarning: Coordinate descent with no regularization may lead to unexpected results and is discouraged.\n",
      "  model = cd_fast.enet_coordinate_descent(\n",
      "C:\\ProgramData\\Anaconda3\\lib\\site-packages\\sklearn\\linear_model\\_coordinate_descent.py:529: ConvergenceWarning: Objective did not converge. You might want to increase the number of iterations. Duality gap: 27.790585532447356, tolerance: 0.40832068948137695\n",
      "  model = cd_fast.enet_coordinate_descent(\n"
     ]
    },
    {
     "data": {
      "text/plain": [
       "0.9857972380254899"
      ]
     },
     "execution_count": 16,
     "metadata": {},
     "output_type": "execute_result"
    }
   ],
   "source": [
    "import warnings\n",
    "# Initialize a lasso regression model\n",
    "\n",
    "lasso_reg = Lasso(alpha=0,normalize=True)\n",
    "\n",
    "# Fit the model to the trainin data\n",
    "\n",
    "lasso_reg.fit(X_train,y_train)\n",
    "\n",
    "warnings.filterwarnings(\"ignore\")\n",
    "\n",
    "#Extract the score from the test data\n",
    "\n",
    "lasso_reg.score(X_test,y_test)"
   ]
  },
  {
   "cell_type": "code",
   "execution_count": 18,
   "metadata": {},
   "outputs": [
    {
     "name": "stdout",
     "output_type": "stream",
     "text": [
      "The most optimal value of alpha is:  {'alpha': 0.0001}\n"
     ]
    },
    {
     "data": {
      "text/plain": [
       "0.9857644406406523"
      ]
     },
     "execution_count": 18,
     "metadata": {},
     "output_type": "execute_result"
    }
   ],
   "source": [
    "#Using GridSearchCV to optimize the value of alpha\n",
    "\n",
    "#Building the model\n",
    "\n",
    "lasso_regression = Lasso()\n",
    "\n",
    "\n",
    "#Using GridSearchCV to search for the best parameter\n",
    "\n",
    "grid = GridSearchCV(lasso_regression,{\"alpha\":[0.0001,0.001,0.01,0.1,10]})\n",
    "\n",
    "grid.fit(X_train,y_train)\n",
    "\n",
    "# Print out the best parameter \n",
    "\n",
    "print(\"The most optimal value of alpha is: \", grid.best_params_)\n",
    "\n",
    "#Initializing an lasso regression object\n",
    "\n",
    "lasso_regression = Lasso(alpha = 0.0001)\n",
    "\n",
    "#Fitting the model to the training and test sets\n",
    "\n",
    "lasso_regression.fit(X_train,y_train)\n",
    "\n",
    "#Accuracy score of the lasso regression model\n",
    "\n",
    "lasso_regression.score(X_test,y_test)"
   ]
  },
  {
   "cell_type": "code",
   "execution_count": 20,
   "metadata": {},
   "outputs": [
    {
     "data": {
      "image/png": "[encoded data removed]",
      "text/plain": [
       "<Figure size 432x288 with 1 Axes>"
      ]
     },
     "metadata": {
      "needs_background": "light"
     },
     "output_type": "display_data"
    }
   ],
   "source": [
    "# Using a plot between the accuracy scores and the value of alpha for the training and test sets\n",
    "\n",
    "train_errors = []\n",
    "test_errors = []\n",
    "\n",
    "alpha_list = [0.0001, 0.001, 0.01, 0.1, 10]\n",
    "\n",
    "# Evaluate the training and test classification errors for each value of alpha\n",
    "\n",
    "for value in alpha_list:\n",
    "    \n",
    "    # Create Lasso object and fit\n",
    "    lasso_regression = Lasso(alpha= value)\n",
    "    lasso_regression.fit(X_train, y_train)\n",
    "    \n",
    "    # Evaluate error rates and append to lists\n",
    "    train_errors.append(ridge_regression.score(X_train, y_train) )\n",
    "    test_errors.append(ridge_regression.score(X_test, y_test))\n",
    "    \n",
    "# Plot results\n",
    "plt.semilogx(alpha_list, train_errors, alpha_list, test_errors)\n",
    "plt.legend((\"train\", \"test\"))\n",
    "plt.ylabel('Accuracy Score')\n",
    "plt.xlabel('Alpha')\n",
    "plt.show()"
   ]
  },
  {
   "cell_type": "code",
   "execution_count": null,
   "metadata": {},
   "outputs": [],
   "source": []
  }
 ],
 "metadata": {
  "kernelspec": {
   "display_name": "Python 3",
   "language": "python",
   "name": "python3"
  },
  "language_info": {
   "codemirror_mode": {
    "name": "ipython",
    "version": 3
   },
   "file_extension": ".py",
   "mimetype": "text/x-python",
   "name": "python",
   "nbconvert_exporter": "python",
   "pygments_lexer": "ipython3",
   "version": "3.8.3"
  }
 },
 "nbformat": 4,
 "nbformat_minor": 4
}
